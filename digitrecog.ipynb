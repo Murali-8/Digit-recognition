{
 "cells": [
  {
   "cell_type": "code",
   "execution_count": 32,
   "metadata": {},
   "outputs": [],
   "source": [
    "import tensorflow as tf\n",
    "import keras \n",
    "from keras import layers\n",
    "from keras import models\n",
    "from keras import utils\n",
    "from keras.layers import Dense\n",
    "from keras.models import Sequential\n",
    "from keras.layers import Flatten\n",
    "from keras.layers import Dropout\n",
    "from keras.layers import Activation\n",
    "from keras.regularizers import l2\n",
    "from tensorflow.keras.optimizers import SGD\n",
    "from tensorflow.keras.optimizers import RMSprop\n",
    "from keras import datasets\n",
    "\n",
    "from keras.callbacks import LearningRateScheduler\n",
    "from keras.callbacks import History\n",
    "\n",
    "from keras import losses\n",
    "from sklearn.utils import shuffle\n"
   ]
  },
  {
   "cell_type": "code",
   "execution_count": 33,
   "metadata": {},
   "outputs": [],
   "source": [
    "import numpy as np \n",
    "np.random.seed(5)\n"
   ]
  },
  {
   "cell_type": "code",
   "execution_count": 34,
   "metadata": {},
   "outputs": [
    {
     "data": {
      "text/plain": [
       "((60000, 28, 28), (60000,))"
      ]
     },
     "execution_count": 34,
     "metadata": {},
     "output_type": "execute_result"
    }
   ],
   "source": [
    "mnist = keras.datasets.mnist\n",
    "(x_train,y_train),(x_test,y_test) = mnist.load_data()\n",
    "x_train.shape , y_train.shape"
   ]
  },
  {
   "cell_type": "code",
   "execution_count": 35,
   "metadata": {},
   "outputs": [
    {
     "name": "stdout",
     "output_type": "stream",
     "text": [
      "[5 0 4 ... 5 6 8]\n"
     ]
    }
   ],
   "source": [
    "print(y_train)"
   ]
  },
  {
   "cell_type": "code",
   "execution_count": 36,
   "metadata": {},
   "outputs": [
    {
     "data": {
      "image/png": "[encoded data removed]",
      "text/plain": [
       "<Figure size 720x1440 with 10 Axes>"
      ]
     },
     "metadata": {},
     "output_type": "display_data"
    }
   ],
   "source": [
    "from matplotlib import pyplot as plt\n",
    "plt.figure(figsize=(10,20))\n",
    "for i in range (10):\n",
    "    plt.subplot(5,5,i+1)\n",
    "    plt.xticks([])\n",
    "    plt.yticks([])\n",
    "    plt.grid(False)\n",
    "    plt.imshow(x_train[i], cmap =plt.cm.binary)\n",
    "    plt.xlabel(y_train[i])\n"
   ]
  },
  {
   "cell_type": "code",
   "execution_count": 37,
   "metadata": {},
   "outputs": [
    {
     "data": {
      "text/plain": [
       "<matplotlib.image.AxesImage at 0x2606f091f40>"
      ]
     },
     "execution_count": 37,
     "metadata": {},
     "output_type": "execute_result"
    },
    {
     "data": {
      "image/png": "[encoded data removed]",
      "text/plain": [
       "<Figure size 432x288 with 1 Axes>"
      ]
     },
     "metadata": {
      "needs_background": "light"
     },
     "output_type": "display_data"
    }
   ],
   "source": [
    "five = x_train[0].copy()\n",
    "plt.imshow(five, cmap=plt.cm.binary)\n"
   ]
  },
  {
   "cell_type": "code",
   "execution_count": 38,
   "metadata": {},
   "outputs": [
    {
     "name": "stdout",
     "output_type": "stream",
     "text": [
      "[  0   0   0   0   0   0   0   0  30  36  94 154 170 253 253 253 253 253\n",
      " 225 172 253 242 195  64   0   0   0   0]\n",
      "[  0   0   0   0   0   0   0   0 255 255 255 255 255 255 255 255 255 255\n",
      " 255 255 255 255 255 255   0   0   0   0]\n"
     ]
    },
    {
     "data": {
      "text/plain": [
       "<matplotlib.image.AxesImage at 0x260000fa7f0>"
      ]
     },
     "execution_count": 38,
     "metadata": {},
     "output_type": "execute_result"
    },
    {
     "data": {
      "image/png": "[encoded data removed]",
      "text/plain": [
       "<Figure size 432x288 with 1 Axes>"
      ]
     },
     "metadata": {
      "needs_background": "light"
     },
     "output_type": "display_data"
    }
   ],
   "source": [
    "#Thresholding\n",
    "print(five[6])\n",
    "five[five>0]=255\n",
    "print(five[6])\n",
    "\n",
    "plt.imshow(five,cmap=plt.cm.binary)"
   ]
  },
  {
   "cell_type": "code",
   "execution_count": 39,
   "metadata": {},
   "outputs": [
    {
     "name": "stdout",
     "output_type": "stream",
     "text": [
      "we have 60000 train samples\n",
      "we have 10000 test samples\n"
     ]
    }
   ],
   "source": [
    "print(f'we have {x_train.shape[0]} train samples')\n",
    "print(f'we have {x_test.shape[0]} test samples')\n"
   ]
  },
  {
   "cell_type": "code",
   "execution_count": 40,
   "metadata": {},
   "outputs": [],
   "source": [
    "# normalize the data\n",
    "x_train,x_test = x_train/255.0 ,x_test /255.0#"
   ]
  },
  {
   "cell_type": "code",
   "execution_count": 41,
   "metadata": {},
   "outputs": [],
   "source": [
    "# reshape the data into 1-D vecor\n",
    "x_train = x_train.reshape(60000,784)\n",
    "x_test = x_test.reshape(10000,784)\n",
    "num_classes =10"
   ]
  },
  {
   "cell_type": "code",
   "execution_count": 42,
   "metadata": {},
   "outputs": [
    {
     "data": {
      "text/plain": [
       "784"
      ]
     },
     "execution_count": 42,
     "metadata": {},
     "output_type": "execute_result"
    }
   ],
   "source": [
    "x_train.shape[1]"
   ]
  },
  {
   "cell_type": "code",
   "execution_count": 43,
   "metadata": {},
   "outputs": [],
   "source": [
    "# convert the class vectors to binary class matrices\n",
    "y_train = tf.keras.utils.to_categorical(y_train,num_classes)\n",
    "y_test = tf.keras.utils.to_categorical(y_test,num_classes)"
   ]
  },
  {
   "cell_type": "code",
   "execution_count": 44,
   "metadata": {},
   "outputs": [
    {
     "data": {
      "text/plain": [
       "array([0., 0., 0., 0., 0., 1., 0., 0., 0., 0.], dtype=float32)"
      ]
     },
     "execution_count": 44,
     "metadata": {},
     "output_type": "execute_result"
    }
   ],
   "source": [
    "y_train[0]"
   ]
  },
  {
   "cell_type": "code",
   "execution_count": 46,
   "metadata": {},
   "outputs": [
    {
     "name": "stderr",
     "output_type": "stream",
     "text": [
      "C:\\Users\\HP\\anaconda3\\envs\\deeplearning\\lib\\site-packages\\keras\\optimizer_v2\\gradient_descent.py:102: UserWarning: The `lr` argument is deprecated, use `learning_rate` instead.\n",
      "  super(SGD, self).__init__(name, **kwargs)\n"
     ]
    }
   ],
   "source": [
    "epochs= 60\n",
    "learing_rate = 0.1\n",
    "decay_rate = learing_rate / epochs\n",
    "momentum =0.8\n",
    "sgd=SGD(lr=learing_rate , momentum=momentum,decay=decay_rate, nesterov= False)"
   ]
  },
  {
   "cell_type": "code",
   "execution_count": 50,
   "metadata": {},
   "outputs": [],
   "source": [
    "# building the model\n",
    "input_dim =x_train.shape[1]\n",
    "\n",
    "lr_model = Sequential()\n",
    "lr_model.add(Dense(64,activation= tf.nn.relu,\n",
    "kernel_initializer='uniform',input_dim= input_dim))\n",
    "\n",
    "lr_model.add(Dropout(0.1))\n",
    "lr_model.add(Dense(64,activation= tf.nn.relu))\n",
    "lr_model.add(Dense(num_classes,kernel_initializer='uniform',activation=tf.nn.softmax))\n",
    "\n",
    "# compile the model\n",
    "lr_model.compile(loss='categorical_crossentropy',\n",
    "optimizer=sgd,\n",
    "metrics= ['acc'])"
   ]
  },
  {
   "cell_type": "code",
   "execution_count": 51,
   "metadata": {},
   "outputs": [
    {
     "name": "stdout",
     "output_type": "stream",
     "text": [
      "Epoch 1/60\n",
      "8572/8572 [==============================] - 15s 1ms/step - loss: 0.3769 - acc: 0.8857 - val_loss: 0.1864 - val_acc: 0.9433\n",
      "Epoch 2/60\n",
      "8572/8572 [==============================] - 11s 1ms/step - loss: 0.2163 - acc: 0.9336 - val_loss: 0.1615 - val_acc: 0.9506\n",
      "Epoch 3/60\n",
      "8572/8572 [==============================] - 12s 1ms/step - loss: 0.1929 - acc: 0.9414 - val_loss: 0.1479 - val_acc: 0.9548\n",
      "Epoch 4/60\n",
      "8572/8572 [==============================] - 11s 1ms/step - loss: 0.1815 - acc: 0.9445 - val_loss: 0.1440 - val_acc: 0.9570\n",
      "Epoch 5/60\n",
      "8572/8572 [==============================] - 11s 1ms/step - loss: 0.1730 - acc: 0.9468 - val_loss: 0.1404 - val_acc: 0.9571\n",
      "Epoch 6/60\n",
      "8572/8572 [==============================] - 11s 1ms/step - loss: 0.1694 - acc: 0.9487 - val_loss: 0.1361 - val_acc: 0.9591\n",
      "Epoch 7/60\n",
      "8572/8572 [==============================] - 12s 1ms/step - loss: 0.1625 - acc: 0.9495 - val_loss: 0.1347 - val_acc: 0.9592\n",
      "Epoch 8/60\n",
      "8572/8572 [==============================] - 12s 1ms/step - loss: 0.1625 - acc: 0.9501 - val_loss: 0.1322 - val_acc: 0.9606\n",
      "Epoch 9/60\n",
      "8572/8572 [==============================] - 12s 1ms/step - loss: 0.1553 - acc: 0.9517 - val_loss: 0.1311 - val_acc: 0.9609\n",
      "Epoch 10/60\n",
      "8572/8572 [==============================] - 12s 1ms/step - loss: 0.1541 - acc: 0.9524 - val_loss: 0.1278 - val_acc: 0.9619\n",
      "Epoch 11/60\n",
      "8572/8572 [==============================] - 13s 1ms/step - loss: 0.1509 - acc: 0.9530 - val_loss: 0.1284 - val_acc: 0.9617\n",
      "Epoch 12/60\n",
      "8572/8572 [==============================] - 13s 2ms/step - loss: 0.1493 - acc: 0.9545 - val_loss: 0.1267 - val_acc: 0.9619\n",
      "Epoch 13/60\n",
      "8572/8572 [==============================] - 13s 1ms/step - loss: 0.1491 - acc: 0.9546 - val_loss: 0.1267 - val_acc: 0.9622\n",
      "Epoch 14/60\n",
      "8572/8572 [==============================] - 13s 1ms/step - loss: 0.1478 - acc: 0.9546 - val_loss: 0.1260 - val_acc: 0.9626\n",
      "Epoch 15/60\n",
      "8572/8572 [==============================] - 13s 1ms/step - loss: 0.1454 - acc: 0.9548 - val_loss: 0.1246 - val_acc: 0.9634\n",
      "Epoch 16/60\n",
      "8572/8572 [==============================] - 13s 2ms/step - loss: 0.1446 - acc: 0.9550 - val_loss: 0.1242 - val_acc: 0.9627\n",
      "Epoch 17/60\n",
      "8572/8572 [==============================] - 12s 1ms/step - loss: 0.1435 - acc: 0.9566 - val_loss: 0.1241 - val_acc: 0.9628\n",
      "Epoch 18/60\n",
      "8572/8572 [==============================] - 13s 1ms/step - loss: 0.1419 - acc: 0.9564 - val_loss: 0.1228 - val_acc: 0.9634\n",
      "Epoch 19/60\n",
      "8572/8572 [==============================] - 12s 1ms/step - loss: 0.1398 - acc: 0.9573 - val_loss: 0.1220 - val_acc: 0.9632\n",
      "Epoch 20/60\n",
      "8572/8572 [==============================] - 12s 1ms/step - loss: 0.1380 - acc: 0.9577 - val_loss: 0.1227 - val_acc: 0.9636\n",
      "Epoch 21/60\n",
      "8572/8572 [==============================] - 12s 1ms/step - loss: 0.1386 - acc: 0.9572 - val_loss: 0.1222 - val_acc: 0.9639\n",
      "Epoch 22/60\n",
      "8572/8572 [==============================] - 12s 1ms/step - loss: 0.1372 - acc: 0.9578 - val_loss: 0.1223 - val_acc: 0.9636\n",
      "Epoch 23/60\n",
      "8572/8572 [==============================] - 12s 1ms/step - loss: 0.1365 - acc: 0.9585 - val_loss: 0.1217 - val_acc: 0.9640\n",
      "Epoch 24/60\n",
      "8572/8572 [==============================] - 12s 1ms/step - loss: 0.1354 - acc: 0.9584 - val_loss: 0.1216 - val_acc: 0.9645\n",
      "Epoch 25/60\n",
      "8572/8572 [==============================] - 12s 1ms/step - loss: 0.1342 - acc: 0.9587 - val_loss: 0.1206 - val_acc: 0.9638\n",
      "Epoch 26/60\n",
      "8572/8572 [==============================] - 12s 1ms/step - loss: 0.1347 - acc: 0.9580 - val_loss: 0.1201 - val_acc: 0.9641\n",
      "Epoch 27/60\n",
      "8572/8572 [==============================] - 12s 1ms/step - loss: 0.1332 - acc: 0.9589 - val_loss: 0.1201 - val_acc: 0.9642\n",
      "Epoch 28/60\n",
      "8572/8572 [==============================] - 12s 1ms/step - loss: 0.1316 - acc: 0.9597 - val_loss: 0.1196 - val_acc: 0.9642\n",
      "Epoch 29/60\n",
      "8572/8572 [==============================] - 12s 1ms/step - loss: 0.1323 - acc: 0.9585 - val_loss: 0.1197 - val_acc: 0.9647\n",
      "Epoch 30/60\n",
      "8572/8572 [==============================] - 12s 1ms/step - loss: 0.1312 - acc: 0.9601 - val_loss: 0.1188 - val_acc: 0.9651\n",
      "Epoch 31/60\n",
      "8572/8572 [==============================] - 12s 1ms/step - loss: 0.1300 - acc: 0.9602 - val_loss: 0.1187 - val_acc: 0.9649\n",
      "Epoch 32/60\n",
      "8572/8572 [==============================] - 13s 1ms/step - loss: 0.1303 - acc: 0.9593 - val_loss: 0.1182 - val_acc: 0.9649\n",
      "Epoch 33/60\n",
      "8572/8572 [==============================] - 12s 1ms/step - loss: 0.1308 - acc: 0.9595 - val_loss: 0.1182 - val_acc: 0.9645\n",
      "Epoch 34/60\n",
      "8572/8572 [==============================] - 12s 1ms/step - loss: 0.1305 - acc: 0.9595 - val_loss: 0.1182 - val_acc: 0.9650\n",
      "Epoch 35/60\n",
      "8572/8572 [==============================] - 12s 1ms/step - loss: 0.1295 - acc: 0.9595 - val_loss: 0.1181 - val_acc: 0.9650\n",
      "Epoch 36/60\n",
      "8572/8572 [==============================] - 12s 1ms/step - loss: 0.1284 - acc: 0.9608 - val_loss: 0.1175 - val_acc: 0.9655\n",
      "Epoch 37/60\n",
      "8572/8572 [==============================] - 12s 1ms/step - loss: 0.1276 - acc: 0.9611 - val_loss: 0.1171 - val_acc: 0.9651\n",
      "Epoch 38/60\n",
      "8572/8572 [==============================] - 12s 1ms/step - loss: 0.1276 - acc: 0.9607 - val_loss: 0.1177 - val_acc: 0.9650\n",
      "Epoch 39/60\n",
      "8572/8572 [==============================] - 12s 1ms/step - loss: 0.1254 - acc: 0.9614 - val_loss: 0.1171 - val_acc: 0.9652\n",
      "Epoch 40/60\n",
      "8572/8572 [==============================] - 12s 1ms/step - loss: 0.1259 - acc: 0.9617 - val_loss: 0.1167 - val_acc: 0.9651\n",
      "Epoch 41/60\n",
      "8572/8572 [==============================] - 12s 1ms/step - loss: 0.1265 - acc: 0.9610 - val_loss: 0.1172 - val_acc: 0.9652\n",
      "Epoch 42/60\n",
      "8572/8572 [==============================] - 12s 1ms/step - loss: 0.1262 - acc: 0.9614 - val_loss: 0.1171 - val_acc: 0.9653\n",
      "Epoch 43/60\n",
      "8572/8572 [==============================] - 12s 1ms/step - loss: 0.1236 - acc: 0.9625 - val_loss: 0.1163 - val_acc: 0.9657\n",
      "Epoch 44/60\n",
      "8572/8572 [==============================] - 12s 1ms/step - loss: 0.1248 - acc: 0.9619 - val_loss: 0.1158 - val_acc: 0.9651\n",
      "Epoch 45/60\n",
      "8572/8572 [==============================] - 12s 1ms/step - loss: 0.1261 - acc: 0.9616 - val_loss: 0.1161 - val_acc: 0.9652\n",
      "Epoch 46/60\n",
      "8572/8572 [==============================] - 12s 1ms/step - loss: 0.1247 - acc: 0.9618 - val_loss: 0.1158 - val_acc: 0.9654\n",
      "Epoch 47/60\n",
      "8572/8572 [==============================] - 12s 1ms/step - loss: 0.1263 - acc: 0.9612 - val_loss: 0.1161 - val_acc: 0.9656\n",
      "Epoch 48/60\n",
      "8572/8572 [==============================] - 12s 1ms/step - loss: 0.1238 - acc: 0.9619 - val_loss: 0.1153 - val_acc: 0.9652\n",
      "Epoch 49/60\n",
      "8572/8572 [==============================] - 12s 1ms/step - loss: 0.1218 - acc: 0.9628 - val_loss: 0.1154 - val_acc: 0.9663\n",
      "Epoch 50/60\n",
      "8572/8572 [==============================] - 13s 1ms/step - loss: 0.1217 - acc: 0.9623 - val_loss: 0.1154 - val_acc: 0.9654\n",
      "Epoch 51/60\n",
      "8572/8572 [==============================] - 12s 1ms/step - loss: 0.1231 - acc: 0.9618 - val_loss: 0.1150 - val_acc: 0.9650\n",
      "Epoch 52/60\n",
      "8572/8572 [==============================] - 12s 1ms/step - loss: 0.1226 - acc: 0.9627 - val_loss: 0.1150 - val_acc: 0.9653\n",
      "Epoch 53/60\n",
      "8572/8572 [==============================] - 13s 1ms/step - loss: 0.1207 - acc: 0.9627 - val_loss: 0.1153 - val_acc: 0.9657\n",
      "Epoch 54/60\n",
      "8572/8572 [==============================] - 13s 1ms/step - loss: 0.1243 - acc: 0.9617 - val_loss: 0.1153 - val_acc: 0.9655\n",
      "Epoch 55/60\n",
      "8572/8572 [==============================] - 13s 2ms/step - loss: 0.1189 - acc: 0.9638 - val_loss: 0.1148 - val_acc: 0.9656\n",
      "Epoch 56/60\n",
      "8572/8572 [==============================] - 13s 1ms/step - loss: 0.1203 - acc: 0.9633 - val_loss: 0.1146 - val_acc: 0.9657\n",
      "Epoch 57/60\n",
      "8572/8572 [==============================] - 13s 2ms/step - loss: 0.1207 - acc: 0.9634 - val_loss: 0.1145 - val_acc: 0.9659\n",
      "Epoch 58/60\n",
      "8572/8572 [==============================] - 13s 1ms/step - loss: 0.1197 - acc: 0.9632 - val_loss: 0.1142 - val_acc: 0.9657\n",
      "Epoch 59/60\n",
      "8572/8572 [==============================] - 13s 1ms/step - loss: 0.1205 - acc: 0.9636 - val_loss: 0.1145 - val_acc: 0.9655\n",
      "Epoch 60/60\n",
      "8572/8572 [==============================] - 13s 2ms/step - loss: 0.1210 - acc: 0.9622 - val_loss: 0.1140 - val_acc: 0.9657\n",
      "CPU times: total: 20min 15s\n",
      "Wall time: 12min 13s\n"
     ]
    }
   ],
   "source": [
    "%%time\n",
    "#Fit the model\n",
    "batch_size = int(input_dim/100)\n",
    "\n",
    "lr_model_history = lr_model.fit(x_train,y_train,batch_size= batch_size,epochs = epochs,verbose=1,validation_data=(x_test,y_test))"
   ]
  },
  {
   "cell_type": "code",
   "execution_count": null,
   "metadata": {},
   "outputs": [],
   "source": [
    "fig, ax = plt.subplot(1,1, figsize = (18,6))\n",
    "ax.plot(np.sqrt(lr_model_history.history['acc']),'r',label='train')\n",
    "ax.plot(np.sqrt(lr_model_history.history['val_acc']),'b',label='val')\n",
    "ax.set_xlabel(r)"
   ]
  },
  {
   "cell_type": "code",
   "execution_count": null,
   "metadata": {},
   "outputs": [],
   "source": []
  },
  {
   "cell_type": "code",
   "execution_count": 52,
   "metadata": {},
   "outputs": [
    {
     "name": "stderr",
     "output_type": "stream",
     "text": [
      "C:\\Users\\HP\\anaconda3\\envs\\deeplearning\\lib\\site-packages\\keras\\optimizer_v2\\gradient_descent.py:102: UserWarning: The `lr` argument is deprecated, use `learning_rate` instead.\n",
      "  super(SGD, self).__init__(name, **kwargs)\n"
     ]
    }
   ],
   "source": [
    "epochs= 30\n",
    "learing_rate = 0.1 # inital learning rate\n",
    "decay_rate = 0.1\n",
    "momentum =0.8\n",
    "sgd=SGD(lr=learing_rate , momentum=momentum,\n",
    "        decay=decay_rate, nesterov= False)"
   ]
  },
  {
   "cell_type": "code",
   "execution_count": 53,
   "metadata": {},
   "outputs": [],
   "source": [
    "input_dim =x_train.shape[1]\n",
    "num_classes =10\n",
    "batch_size =196\n",
    "\n",
    "# building the model\n",
    "\n",
    "exponential_decay_model = Sequential()\n",
    "exponential_decay_model.add(Dense(64,activation= tf.nn.relu,\n",
    "kernel_initializer='uniform',input_dim= input_dim))\n",
    "\n",
    "exponential_decay_model.add(Dropout(0.1))\n",
    "exponential_decay_model.add(Dense(64,kernel_initializer='uniform',activation= tf.nn.relu))\n",
    "exponential_decay_model.add(Dense(num_classes,kernel_initializer='uniform',activation=tf.nn.softmax))\n",
    "\n",
    "# compile the model\n",
    "exponential_decay_model.compile(loss='categorical_crossentropy',\n",
    "                                optimizer=sgd,\n",
    "                                metrics= ['acc'])"
   ]
  },
  {
   "cell_type": "code",
   "execution_count": 54,
   "metadata": {},
   "outputs": [],
   "source": [
    "# define the learinig rate change\n",
    "\n",
    "def exp_decay(epoch):\n",
    "    lrate = learing_rate * np.exp(-decay_rate * epoch)\n",
    "    return lrate"
   ]
  },
  {
   "cell_type": "code",
   "execution_count": 57,
   "metadata": {},
   "outputs": [
    {
     "name": "stdout",
     "output_type": "stream",
     "text": [
      "Epoch 1/30\n",
      "307/307 [==============================] - 1s 3ms/step - loss: 2.0411 - acc: 0.3922 - val_loss: 1.4945 - val_acc: 0.5786 - lr: 0.1000\n",
      "Epoch 2/30\n",
      "307/307 [==============================] - 1s 3ms/step - loss: 1.2271 - acc: 0.6375 - val_loss: 0.9784 - val_acc: 0.7164 - lr: 0.0905\n",
      "Epoch 3/30\n",
      "307/307 [==============================] - 1s 3ms/step - loss: 0.9611 - acc: 0.6990 - val_loss: 0.8400 - val_acc: 0.7518 - lr: 0.0819\n",
      "Epoch 4/30\n",
      "307/307 [==============================] - 1s 3ms/step - loss: 0.8755 - acc: 0.7247 - val_loss: 0.7801 - val_acc: 0.7670 - lr: 0.0741\n",
      "Epoch 5/30\n",
      "307/307 [==============================] - 1s 3ms/step - loss: 0.8310 - acc: 0.7363 - val_loss: 0.7461 - val_acc: 0.7763 - lr: 0.0670\n",
      "Epoch 6/30\n",
      "307/307 [==============================] - 1s 3ms/step - loss: 0.8029 - acc: 0.7465 - val_loss: 0.7244 - val_acc: 0.7838 - lr: 0.0607\n",
      "Epoch 7/30\n",
      "307/307 [==============================] - 1s 3ms/step - loss: 0.7841 - acc: 0.7540 - val_loss: 0.7089 - val_acc: 0.7885 - lr: 0.0549\n",
      "Epoch 8/30\n",
      "307/307 [==============================] - 1s 3ms/step - loss: 0.7702 - acc: 0.7597 - val_loss: 0.6973 - val_acc: 0.7922 - lr: 0.0497\n",
      "Epoch 9/30\n",
      "307/307 [==============================] - 1s 3ms/step - loss: 0.7597 - acc: 0.7594 - val_loss: 0.6890 - val_acc: 0.7958 - lr: 0.0449\n",
      "Epoch 10/30\n",
      "307/307 [==============================] - 1s 3ms/step - loss: 0.7521 - acc: 0.7637 - val_loss: 0.6819 - val_acc: 0.7988 - lr: 0.0407\n",
      "Epoch 11/30\n",
      "307/307 [==============================] - 1s 3ms/step - loss: 0.7469 - acc: 0.7656 - val_loss: 0.6766 - val_acc: 0.8011 - lr: 0.0368\n",
      "Epoch 12/30\n",
      "307/307 [==============================] - 1s 3ms/step - loss: 0.7424 - acc: 0.7692 - val_loss: 0.6721 - val_acc: 0.8026 - lr: 0.0333\n",
      "Epoch 13/30\n",
      "307/307 [==============================] - 1s 3ms/step - loss: 0.7365 - acc: 0.7701 - val_loss: 0.6685 - val_acc: 0.8033 - lr: 0.0301\n",
      "Epoch 14/30\n",
      "307/307 [==============================] - 1s 3ms/step - loss: 0.7362 - acc: 0.7686 - val_loss: 0.6655 - val_acc: 0.8045 - lr: 0.0273\n",
      "Epoch 15/30\n",
      "307/307 [==============================] - 1s 3ms/step - loss: 0.7316 - acc: 0.7723 - val_loss: 0.6631 - val_acc: 0.8057 - lr: 0.0247\n",
      "Epoch 16/30\n",
      "307/307 [==============================] - 1s 3ms/step - loss: 0.7288 - acc: 0.7713 - val_loss: 0.6610 - val_acc: 0.8062 - lr: 0.0223\n",
      "Epoch 17/30\n",
      "307/307 [==============================] - 1s 3ms/step - loss: 0.7275 - acc: 0.7721 - val_loss: 0.6593 - val_acc: 0.8069 - lr: 0.0202\n",
      "Epoch 18/30\n",
      "307/307 [==============================] - 1s 3ms/step - loss: 0.7261 - acc: 0.7734 - val_loss: 0.6578 - val_acc: 0.8072 - lr: 0.0183\n",
      "Epoch 19/30\n",
      "307/307 [==============================] - 1s 3ms/step - loss: 0.7226 - acc: 0.7756 - val_loss: 0.6565 - val_acc: 0.8078 - lr: 0.0165\n",
      "Epoch 20/30\n",
      "307/307 [==============================] - 1s 3ms/step - loss: 0.7248 - acc: 0.7733 - val_loss: 0.6554 - val_acc: 0.8079 - lr: 0.0150\n",
      "Epoch 21/30\n",
      "307/307 [==============================] - 1s 3ms/step - loss: 0.7236 - acc: 0.7738 - val_loss: 0.6545 - val_acc: 0.8082 - lr: 0.0135\n",
      "Epoch 22/30\n",
      "307/307 [==============================] - 1s 3ms/step - loss: 0.7191 - acc: 0.7773 - val_loss: 0.6537 - val_acc: 0.8085 - lr: 0.0122\n",
      "Epoch 23/30\n",
      "307/307 [==============================] - 1s 3ms/step - loss: 0.7196 - acc: 0.7768 - val_loss: 0.6530 - val_acc: 0.8087 - lr: 0.0111\n",
      "Epoch 24/30\n",
      "307/307 [==============================] - 1s 3ms/step - loss: 0.7189 - acc: 0.7758 - val_loss: 0.6524 - val_acc: 0.8089 - lr: 0.0100\n",
      "Epoch 25/30\n",
      "307/307 [==============================] - 1s 3ms/step - loss: 0.7193 - acc: 0.7763 - val_loss: 0.6519 - val_acc: 0.8093 - lr: 0.0091\n",
      "Epoch 26/30\n",
      "307/307 [==============================] - 1s 3ms/step - loss: 0.7190 - acc: 0.7765 - val_loss: 0.6514 - val_acc: 0.8094 - lr: 0.0082\n",
      "Epoch 27/30\n",
      "307/307 [==============================] - 1s 3ms/step - loss: 0.7180 - acc: 0.7749 - val_loss: 0.6510 - val_acc: 0.8095 - lr: 0.0074\n",
      "Epoch 28/30\n",
      "307/307 [==============================] - 1s 3ms/step - loss: 0.7173 - acc: 0.7761 - val_loss: 0.6507 - val_acc: 0.8095 - lr: 0.0067\n",
      "Epoch 29/30\n",
      "307/307 [==============================] - 1s 3ms/step - loss: 0.7192 - acc: 0.7760 - val_loss: 0.6504 - val_acc: 0.8095 - lr: 0.0061\n",
      "Epoch 30/30\n",
      "307/307 [==============================] - 1s 3ms/step - loss: 0.7169 - acc: 0.7776 - val_loss: 0.6502 - val_acc: 0.8095 - lr: 0.0055\n"
     ]
    }
   ],
   "source": [
    " # learning schedule callback\n",
    " loss_history = History()\n",
    " lr_rate = LearningRateScheduler(exp_decay)\n",
    " callbacks_list = [loss_history,lr_rate]\n",
    "\n",
    " # you invoke the learning rate scheduler during the .fit() phase\n",
    " exponential_decay_model_history = exponential_decay_model.fit(x_train,y_train,\n",
    "                                                                batch_size= batch_size,\n",
    "                                                                epochs=epochs,\n",
    "                                                                callbacks= callbacks_list,\n",
    "                                                                verbose= 1,\n",
    "                                                                validation_data=(x_test,y_test))"
   ]
  },
  {
   "cell_type": "code",
   "execution_count": 58,
   "metadata": {},
   "outputs": [
    {
     "data": {
      "text/plain": [
       "dict_keys(['loss', 'acc', 'val_loss', 'val_acc'])"
      ]
     },
     "execution_count": 58,
     "metadata": {},
     "output_type": "execute_result"
    }
   ],
   "source": [
    "# check on the variable that can show me the learning rate decay \n",
    "exponential_decay_model_history.history.keys()"
   ]
  },
  {
   "cell_type": "code",
   "execution_count": null,
   "metadata": {},
   "outputs": [],
   "source": []
  },
  {
   "cell_type": "markdown",
   "metadata": {},
   "source": [
    "# using different loss functiton "
   ]
  },
  {
   "cell_type": "code",
   "execution_count": 59,
   "metadata": {},
   "outputs": [],
   "source": [
    "input_dim =x_train.shape[1]\n",
    "# building the model\n",
    "\n",
    "model = Sequential()\n",
    "model.add(Dense(64,activation= tf.nn.relu,\n",
    "kernel_initializer='uniform',input_dim= input_dim))\n",
    "\n",
    "model.add(Dropout(0.1))\n",
    "model.add(Dense(64,kernel_initializer='uniform',activation= tf.nn.relu))\n",
    "model.add(Dense(num_classes,kernel_initializer='uniform',activation=tf.nn.softmax))"
   ]
  },
  {
   "cell_type": "code",
   "execution_count": 60,
   "metadata": {},
   "outputs": [
    {
     "name": "stderr",
     "output_type": "stream",
     "text": [
      "C:\\Users\\HP\\anaconda3\\envs\\deeplearning\\lib\\site-packages\\keras\\optimizer_v2\\rmsprop.py:130: UserWarning: The `lr` argument is deprecated, use `learning_rate` instead.\n",
      "  super(RMSprop, self).__init__(name, **kwargs)\n"
     ]
    }
   ],
   "source": [
    "rms = RMSprop(lr=0.001, rho=0.9 , epsilon= None, decay = 0.0)\n",
    "\n",
    "model.compile(loss='categorical_crossentropy',\n",
    "              optimizer= rms,\n",
    "              metrics=['acc'])"
   ]
  },
  {
   "cell_type": "code",
   "execution_count": 65,
   "metadata": {},
   "outputs": [
    {
     "name": "stdout",
     "output_type": "stream",
     "text": [
      "Epoch 1/60\n",
      "77/77 [==============================] - 0s 6ms/step - loss: 0.2843 - acc: 0.9182 - val_loss: 0.2720 - val_acc: 0.9336\n",
      "Epoch 2/60\n",
      "77/77 [==============================] - 0s 6ms/step - loss: 0.2842 - acc: 0.9185 - val_loss: 0.2716 - val_acc: 0.9350\n",
      "Epoch 3/60\n",
      "77/77 [==============================] - 0s 6ms/step - loss: 0.2851 - acc: 0.9184 - val_loss: 0.2719 - val_acc: 0.9339\n",
      "Epoch 4/60\n",
      "77/77 [==============================] - 0s 6ms/step - loss: 0.2827 - acc: 0.9185 - val_loss: 0.2714 - val_acc: 0.9342\n",
      "Epoch 5/60\n",
      "77/77 [==============================] - 0s 6ms/step - loss: 0.2853 - acc: 0.9176 - val_loss: 0.2721 - val_acc: 0.9340\n",
      "Epoch 6/60\n",
      "77/77 [==============================] - 0s 6ms/step - loss: 0.2856 - acc: 0.9183 - val_loss: 0.2724 - val_acc: 0.9348\n",
      "Epoch 7/60\n",
      "77/77 [==============================] - 0s 6ms/step - loss: 0.2834 - acc: 0.9184 - val_loss: 0.2721 - val_acc: 0.9341\n",
      "Epoch 8/60\n",
      "77/77 [==============================] - 0s 6ms/step - loss: 0.2862 - acc: 0.9179 - val_loss: 0.2721 - val_acc: 0.9340\n",
      "Epoch 9/60\n",
      "77/77 [==============================] - 0s 6ms/step - loss: 0.2863 - acc: 0.9186 - val_loss: 0.2730 - val_acc: 0.9338\n",
      "Epoch 10/60\n",
      "77/77 [==============================] - 0s 6ms/step - loss: 0.2882 - acc: 0.9175 - val_loss: 0.2730 - val_acc: 0.9342\n",
      "Epoch 11/60\n",
      "77/77 [==============================] - 0s 6ms/step - loss: 0.2840 - acc: 0.9183 - val_loss: 0.2724 - val_acc: 0.9342\n",
      "Epoch 12/60\n",
      "77/77 [==============================] - 0s 6ms/step - loss: 0.2847 - acc: 0.9185 - val_loss: 0.2719 - val_acc: 0.9343\n",
      "Epoch 13/60\n",
      "77/77 [==============================] - 0s 6ms/step - loss: 0.2843 - acc: 0.9184 - val_loss: 0.2718 - val_acc: 0.9344\n",
      "Epoch 14/60\n",
      "77/77 [==============================] - 0s 6ms/step - loss: 0.2878 - acc: 0.9173 - val_loss: 0.2726 - val_acc: 0.9343\n",
      "Epoch 15/60\n",
      "77/77 [==============================] - 1s 7ms/step - loss: 0.2843 - acc: 0.9184 - val_loss: 0.2726 - val_acc: 0.9336\n",
      "Epoch 16/60\n",
      "77/77 [==============================] - 0s 6ms/step - loss: 0.2862 - acc: 0.9177 - val_loss: 0.2728 - val_acc: 0.9341\n",
      "Epoch 17/60\n",
      "77/77 [==============================] - 0s 6ms/step - loss: 0.2850 - acc: 0.9181 - val_loss: 0.2728 - val_acc: 0.9337\n",
      "Epoch 18/60\n",
      "77/77 [==============================] - 0s 6ms/step - loss: 0.2847 - acc: 0.9186 - val_loss: 0.2720 - val_acc: 0.9335\n",
      "Epoch 19/60\n",
      "77/77 [==============================] - 0s 6ms/step - loss: 0.2869 - acc: 0.9171 - val_loss: 0.2727 - val_acc: 0.9343\n",
      "Epoch 20/60\n",
      "77/77 [==============================] - 1s 7ms/step - loss: 0.2871 - acc: 0.9175 - val_loss: 0.2727 - val_acc: 0.9338\n",
      "Epoch 21/60\n",
      "77/77 [==============================] - 0s 6ms/step - loss: 0.2884 - acc: 0.9172 - val_loss: 0.2731 - val_acc: 0.9338\n",
      "Epoch 22/60\n",
      "77/77 [==============================] - 0s 6ms/step - loss: 0.2859 - acc: 0.9180 - val_loss: 0.2731 - val_acc: 0.9338\n",
      "Epoch 23/60\n",
      "77/77 [==============================] - 0s 6ms/step - loss: 0.2861 - acc: 0.9173 - val_loss: 0.2733 - val_acc: 0.9337\n",
      "Epoch 24/60\n",
      "77/77 [==============================] - 0s 6ms/step - loss: 0.2847 - acc: 0.9185 - val_loss: 0.2727 - val_acc: 0.9335\n",
      "Epoch 25/60\n",
      "77/77 [==============================] - 0s 6ms/step - loss: 0.2889 - acc: 0.9167 - val_loss: 0.2730 - val_acc: 0.9336\n",
      "Epoch 26/60\n",
      "77/77 [==============================] - 0s 6ms/step - loss: 0.2854 - acc: 0.9176 - val_loss: 0.2733 - val_acc: 0.9338\n",
      "Epoch 27/60\n",
      "77/77 [==============================] - 0s 6ms/step - loss: 0.2889 - acc: 0.9172 - val_loss: 0.2730 - val_acc: 0.9335\n",
      "Epoch 28/60\n",
      "77/77 [==============================] - 1s 8ms/step - loss: 0.2850 - acc: 0.9184 - val_loss: 0.2731 - val_acc: 0.9341\n",
      "Epoch 29/60\n",
      "77/77 [==============================] - 1s 7ms/step - loss: 0.2870 - acc: 0.9176 - val_loss: 0.2730 - val_acc: 0.9337\n",
      "Epoch 30/60\n",
      "77/77 [==============================] - 0s 6ms/step - loss: 0.2862 - acc: 0.9178 - val_loss: 0.2730 - val_acc: 0.9330\n",
      "Epoch 31/60\n",
      "77/77 [==============================] - 0s 6ms/step - loss: 0.2832 - acc: 0.9190 - val_loss: 0.2726 - val_acc: 0.9342\n",
      "Epoch 32/60\n",
      "77/77 [==============================] - 1s 7ms/step - loss: 0.2839 - acc: 0.9187 - val_loss: 0.2730 - val_acc: 0.9339\n",
      "Epoch 33/60\n",
      "77/77 [==============================] - 1s 8ms/step - loss: 0.2851 - acc: 0.9176 - val_loss: 0.2731 - val_acc: 0.9333\n",
      "Epoch 34/60\n",
      "77/77 [==============================] - 1s 8ms/step - loss: 0.2843 - acc: 0.9183 - val_loss: 0.2728 - val_acc: 0.9340\n",
      "Epoch 35/60\n",
      "77/77 [==============================] - 1s 7ms/step - loss: 0.2825 - acc: 0.9187 - val_loss: 0.2733 - val_acc: 0.9337\n",
      "Epoch 36/60\n",
      "77/77 [==============================] - 1s 7ms/step - loss: 0.2825 - acc: 0.9194 - val_loss: 0.2732 - val_acc: 0.9335\n",
      "Epoch 37/60\n",
      "77/77 [==============================] - 0s 6ms/step - loss: 0.2898 - acc: 0.9166 - val_loss: 0.2733 - val_acc: 0.9335\n",
      "Epoch 38/60\n",
      "77/77 [==============================] - 0s 6ms/step - loss: 0.2853 - acc: 0.9186 - val_loss: 0.2735 - val_acc: 0.9333\n",
      "Epoch 39/60\n",
      "77/77 [==============================] - 0s 6ms/step - loss: 0.2822 - acc: 0.9184 - val_loss: 0.2731 - val_acc: 0.9342\n",
      "Epoch 40/60\n",
      "77/77 [==============================] - 0s 6ms/step - loss: 0.2884 - acc: 0.9169 - val_loss: 0.2733 - val_acc: 0.9342\n",
      "Epoch 41/60\n",
      "77/77 [==============================] - 0s 6ms/step - loss: 0.2901 - acc: 0.9168 - val_loss: 0.2742 - val_acc: 0.9336\n",
      "Epoch 42/60\n",
      "77/77 [==============================] - 0s 6ms/step - loss: 0.2860 - acc: 0.9180 - val_loss: 0.2738 - val_acc: 0.9338\n",
      "Epoch 43/60\n",
      "77/77 [==============================] - 0s 6ms/step - loss: 0.2853 - acc: 0.9185 - val_loss: 0.2732 - val_acc: 0.9335\n",
      "Epoch 44/60\n",
      "77/77 [==============================] - 0s 6ms/step - loss: 0.2878 - acc: 0.9172 - val_loss: 0.2734 - val_acc: 0.9337\n",
      "Epoch 45/60\n",
      "77/77 [==============================] - 0s 6ms/step - loss: 0.2898 - acc: 0.9169 - val_loss: 0.2736 - val_acc: 0.9334\n",
      "Epoch 46/60\n",
      "77/77 [==============================] - 0s 6ms/step - loss: 0.2837 - acc: 0.9190 - val_loss: 0.2731 - val_acc: 0.9337\n",
      "Epoch 47/60\n",
      "77/77 [==============================] - 0s 6ms/step - loss: 0.2860 - acc: 0.9179 - val_loss: 0.2730 - val_acc: 0.9336\n",
      "Epoch 48/60\n",
      "77/77 [==============================] - 0s 6ms/step - loss: 0.2873 - acc: 0.9178 - val_loss: 0.2739 - val_acc: 0.9336\n",
      "Epoch 49/60\n",
      "77/77 [==============================] - 0s 6ms/step - loss: 0.2847 - acc: 0.9183 - val_loss: 0.2733 - val_acc: 0.9339\n",
      "Epoch 50/60\n",
      "77/77 [==============================] - 0s 6ms/step - loss: 0.2838 - acc: 0.9190 - val_loss: 0.2732 - val_acc: 0.9338\n",
      "Epoch 51/60\n",
      "77/77 [==============================] - 0s 6ms/step - loss: 0.2865 - acc: 0.9172 - val_loss: 0.2736 - val_acc: 0.9333\n",
      "Epoch 52/60\n",
      "77/77 [==============================] - 0s 6ms/step - loss: 0.2889 - acc: 0.9171 - val_loss: 0.2734 - val_acc: 0.9335\n",
      "Epoch 53/60\n",
      "77/77 [==============================] - 0s 6ms/step - loss: 0.2833 - acc: 0.9182 - val_loss: 0.2739 - val_acc: 0.9337\n",
      "Epoch 54/60\n",
      "77/77 [==============================] - 0s 6ms/step - loss: 0.2879 - acc: 0.9182 - val_loss: 0.2738 - val_acc: 0.9341\n",
      "Epoch 55/60\n",
      "77/77 [==============================] - 0s 6ms/step - loss: 0.2872 - acc: 0.9171 - val_loss: 0.2737 - val_acc: 0.9347\n",
      "Epoch 56/60\n",
      "77/77 [==============================] - 0s 6ms/step - loss: 0.2805 - acc: 0.9197 - val_loss: 0.2732 - val_acc: 0.9340\n",
      "Epoch 57/60\n",
      "77/77 [==============================] - 0s 6ms/step - loss: 0.2804 - acc: 0.9190 - val_loss: 0.2723 - val_acc: 0.9337\n",
      "Epoch 58/60\n",
      "77/77 [==============================] - 0s 6ms/step - loss: 0.2875 - acc: 0.9178 - val_loss: 0.2736 - val_acc: 0.9334\n",
      "Epoch 59/60\n",
      "77/77 [==============================] - 0s 6ms/step - loss: 0.2815 - acc: 0.9190 - val_loss: 0.2728 - val_acc: 0.9338\n",
      "Epoch 60/60\n",
      "77/77 [==============================] - 0s 6ms/step - loss: 0.2829 - acc: 0.9195 - val_loss: 0.2735 - val_acc: 0.9337\n"
     ]
    }
   ],
   "source": [
    "batch_size= input_dim\n",
    "epochs = 60\n",
    "\n",
    "model_history = model.fit(x_train,y_train,batch_size= batch_size,epochs=epochs,\n",
    "                          verbose= 1,validation_data=(x_test,y_test))\n"
   ]
  },
  {
   "cell_type": "code",
   "execution_count": null,
   "metadata": {},
   "outputs": [],
   "source": []
  },
  {
   "cell_type": "code",
   "execution_count": null,
   "metadata": {},
   "outputs": [],
   "source": []
  },
  {
   "cell_type": "code",
   "execution_count": null,
   "metadata": {},
   "outputs": [],
   "source": []
  },
  {
   "cell_type": "code",
   "execution_count": null,
   "metadata": {},
   "outputs": [],
   "source": []
  },
  {
   "cell_type": "code",
   "execution_count": null,
   "metadata": {},
   "outputs": [],
   "source": []
  },
  {
   "cell_type": "code",
   "execution_count": null,
   "metadata": {},
   "outputs": [],
   "source": []
  },
  {
   "cell_type": "code",
   "execution_count": null,
   "metadata": {},
   "outputs": [],
   "source": []
  }
 ],
 "metadata": {
  "interpreter": {
   "hash": "0c72c2effabc4a11f904f0ad61bd52b3d78cffb4a1f9333e1cd3c945eafd87b8"
  },
  "kernelspec": {
   "display_name": "Python 3.8.8 64-bit ('deeplearning': conda)",
   "language": "python",
   "name": "python3"
  },
  "language_info": {
   "codemirror_mode": {
    "name": "ipython",
    "version": 3
   },
   "file_extension": ".py",
   "mimetype": "text/x-python",
   "name": "python",
   "nbconvert_exporter": "python",
   "pygments_lexer": "ipython3",
   "version": "3.8.8"
  },
  "orig_nbformat": 4
 },
 "nbformat": 4,
 "nbformat_minor": 2
}
